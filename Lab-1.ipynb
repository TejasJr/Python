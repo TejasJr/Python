{
 "cells": [
  {
   "cell_type": "code",
   "execution_count": 7,
   "metadata": {},
   "outputs": [],
   "source": [
    "import numpy as np"
   ]
  },
  {
   "cell_type": "code",
   "execution_count": 16,
   "metadata": {},
   "outputs": [
    {
     "name": "stdout",
     "output_type": "stream",
     "text": [
      "[1. 2. 3. 4.]\n"
     ]
    }
   ],
   "source": [
    "li=[1,2,3,4]\n",
    "a = np.array(li,dtype=float)\n",
    "print(a)"
   ]
  },
  {
   "cell_type": "code",
   "execution_count": 18,
   "metadata": {},
   "outputs": [
    {
     "data": {
      "text/plain": [
       "array([1, 2, 3, 4])"
      ]
     },
     "execution_count": 18,
     "metadata": {},
     "output_type": "execute_result"
    }
   ],
   "source": [
    "li=[1,2,3,4]\n",
    "a= np.array(li,dtype=int)\n",
    "a"
   ]
  },
  {
   "cell_type": "code",
   "execution_count": 19,
   "metadata": {},
   "outputs": [
    {
     "data": {
      "text/plain": [
       "array([1.+0.j, 2.+0.j, 3.+0.j, 4.+0.j, 5.+0.j])"
      ]
     },
     "execution_count": 19,
     "metadata": {},
     "output_type": "execute_result"
    }
   ],
   "source": [
    "li=[1,2,3,4,5]\n",
    "a= np.array(li,dtype=complex)\n",
    "a"
   ]
  },
  {
   "cell_type": "markdown",
   "metadata": {},
   "source": [
    "# WE CAN'T MAKE COMPLEX to (int,float)"
   ]
  },
  {
   "cell_type": "markdown",
   "metadata": {},
   "source": [
    "# Dimensions in Array\n",
    " 0-D Array"
   ]
  },
  {
   "cell_type": "code",
   "execution_count": 22,
   "metadata": {},
   "outputs": [
    {
     "name": "stdout",
     "output_type": "stream",
     "text": [
      "Show Array is:  1000\n",
      "Dimension of array is:  0\n"
     ]
    }
   ],
   "source": [
    "arr=np.array(1000)\n",
    "print(\"Show Array is: \",arr)\n",
    "print(\"Dimension of array is: \",arr.ndim)\n",
    "#ndim= no. of dimensions."
   ]
  },
  {
   "cell_type": "markdown",
   "metadata": {},
   "source": [
    "# 1-D Array"
   ]
  },
  {
   "cell_type": "code",
   "execution_count": 26,
   "metadata": {},
   "outputs": [
    {
     "name": "stdout",
     "output_type": "stream",
     "text": [
      "Show Array is:  [1000]\n",
      "Dimenshion of array is:  1\n"
     ]
    }
   ],
   "source": [
    "a = np.array([1000])\n",
    "print(\"Show Array is: \", a)\n",
    "print(\"Dimenshion of array is: \", a.ndim)"
   ]
  },
  {
   "cell_type": "code",
   "execution_count": 33,
   "metadata": {},
   "outputs": [
    {
     "name": "stdout",
     "output_type": "stream",
     "text": [
      "Show Array is:  [1000.]\n",
      "Dimenshion of array is:  1\n",
      "Show Array is:  [10]\n",
      "Dimenshion of array is:  1\n",
      "Show Array is:  [1000.+0.j]\n",
      "Dimenshion of array is:  1\n"
     ]
    }
   ],
   "source": [
    "a= np.array([1000],float)\n",
    "print(\"Show Array is: \",a)\n",
    "print(\"Dimenshion of array is: \", a.ndim)\n",
    "a= np.array([10.0],int)\n",
    "print(\"Show Array is: \",a)\n",
    "print(\"Dimenshion of array is: \", a.ndim)\n",
    "a= np.array([1000],complex)\n",
    "print(\"Show Array is: \",a)\n",
    "print(\"Dimenshion of array is: \", a.ndim)"
   ]
  },
  {
   "cell_type": "code",
   "execution_count": 35,
   "metadata": {},
   "outputs": [
    {
     "name": "stdout",
     "output_type": "stream",
     "text": [
      "Show Array is:  [200 100 300 400]\n",
      "Dimenshion of array is:  1\n"
     ]
    }
   ],
   "source": [
    "a = np.array([200,100,300,400])\n",
    "print(\"Show Array is: \",a)\n",
    "print(\"Dimenshion of array is: \", a.ndim)\n",
    "#becuase its in one bracket only"
   ]
  },
  {
   "cell_type": "code",
   "execution_count": 57,
   "metadata": {},
   "outputs": [
    {
     "name": "stdout",
     "output_type": "stream",
     "text": [
      "Show Array is: \n",
      "  [[10 20]\n",
      " [30 40]]\n",
      "Dimenshion of array is:  2\n",
      "Shape of Array is:  (2, 2)\n"
     ]
    }
   ],
   "source": [
    "#for shape\n",
    "a= np.array([[10,20],[30,40]])\n",
    "print(\"Show Array is: \\n \",a)\n",
    "print(\"Dimenshion of array is: \", a.ndim)\n",
    "print(\"Shape of Array is: \",a.shape)"
   ]
  },
  {
   "cell_type": "markdown",
   "metadata": {},
   "source": [
    "# If Outer bracket is '3' then (3-D)\n",
    "        &\n",
    "# If Outer bracket is '2' then (2-D)"
   ]
  },
  {
   "cell_type": "markdown",
   "metadata": {},
   "source": [
    "# 2-D Array:"
   ]
  },
  {
   "cell_type": "code",
   "execution_count": 47,
   "metadata": {},
   "outputs": [
    {
     "name": "stdout",
     "output_type": "stream",
     "text": [
      "Show Array is:\n",
      "  [[10]\n",
      " [20]]\n",
      "Dimenshion of array is:  2\n",
      "Shape of Array:  (2, 1)\n"
     ]
    }
   ],
   "source": [
    "a= np.array([[10],[20]])\n",
    "print(\"Show Array is:\\n \",a)\n",
    "print(\"Dimenshion of array is: \", a.ndim)\n",
    "print(\"Shape of Array: \",a.shape)"
   ]
  },
  {
   "cell_type": "markdown",
   "metadata": {},
   "source": [
    "# here shape (2='row', 1='column')"
   ]
  },
  {
   "cell_type": "code",
   "execution_count": 53,
   "metadata": {},
   "outputs": [
    {
     "name": "stdout",
     "output_type": "stream",
     "text": [
      "Show Array is: \n",
      "  [[10 20]]\n",
      "Dimenshion of array is:  2\n",
      "Shape of Array is:  (1, 2)\n"
     ]
    }
   ],
   "source": [
    "a= np.array([[10,20]])\n",
    "print(\"Show Array is: \\n \",a)\n",
    "print(\"Dimenshion of array is: \", a.ndim)\n",
    "print(\"Shape of Array is: \",a.shape)"
   ]
  },
  {
   "cell_type": "code",
   "execution_count": 60,
   "metadata": {},
   "outputs": [
    {
     "name": "stdout",
     "output_type": "stream",
     "text": [
      "Show Array is: \n",
      "  [[10 20]]\n",
      "Dimenshion of array is:  2\n",
      "Shape of Array is:  (1, 2)\n"
     ]
    }
   ],
   "source": [
    "#for 1-'row', 2-'column'\n",
    "a= np.array([[10,20]])\n",
    "print(\"Show Array is: \\n \",a)\n",
    "print(\"Dimenshion of array is: \", a.ndim)\n",
    "print(\"Shape of Array is: \",a.shape)"
   ]
  },
  {
   "cell_type": "markdown",
   "metadata": {},
   "source": [
    "# 3-D Array"
   ]
  },
  {
   "cell_type": "code",
   "execution_count": 67,
   "metadata": {},
   "outputs": [
    {
     "name": "stdout",
     "output_type": "stream",
     "text": [
      "Show Array is: \n",
      "  [[[10 20]\n",
      "  [30 40]\n",
      "  [40 50]]]\n",
      "Dimenshion of array is:  3\n",
      "Shape of Array is:  (1, 3, 2)\n",
      "Show Array is: \n",
      "  [[[10 20]\n",
      "  [30 40]\n",
      "  [40 50]]\n",
      "\n",
      " [[10 20]\n",
      "  [30 40]\n",
      "  [40 50]]]\n",
      "Dimenshion of array is:  3\n",
      "Shape of Array is:  (2, 3, 2)\n"
     ]
    }
   ],
   "source": [
    "a = np.array([[[10,20],[30,40],[40,50]]])\n",
    "print(\"Show Array is: \\n \",a)\n",
    "print(\"Dimenshion of array is: \", a.ndim)\n",
    "print(\"Shape of Array is: \",a.shape)\n",
    "\n",
    "#for showing 2 element in shape of arr\n",
    "#mhanje 2-D chi 1 array aste!\n",
    "a = np.array([[[10,20],[30,40],[40,50]],[[10,20],[30,40],[40,50]]])\n",
    "print(\"Show Array is: \\n \",a)\n",
    "print(\"Dimenshion of array is: \", a.ndim)\n",
    "print(\"Shape of Array is: \",a.shape)"
   ]
  },
  {
   "cell_type": "markdown",
   "metadata": {},
   "source": [
    "### Indexing and Slicing"
   ]
  },
  {
   "cell_type": "code",
   "execution_count": null,
   "metadata": {},
   "outputs": [],
   "source": [
    "a=np"
   ]
  }
 ],
 "metadata": {
  "kernelspec": {
   "display_name": "Python 3",
   "language": "python",
   "name": "python3"
  },
  "language_info": {
   "codemirror_mode": {
    "name": "ipython",
    "version": 3
   },
   "file_extension": ".py",
   "mimetype": "text/x-python",
   "name": "python",
   "nbconvert_exporter": "python",
   "pygments_lexer": "ipython3",
   "version": "3.13.1"
  }
 },
 "nbformat": 4,
 "nbformat_minor": 2
}
